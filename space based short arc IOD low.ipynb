{
 "cells": [
  {
   "cell_type": "markdown",
   "id": "260a3cae",
   "metadata": {},
   "source": [
    "## poliastro 构建的轨道传播算法 只考虑了J2"
   ]
  },
  {
   "cell_type": "code",
   "execution_count": 1,
   "id": "f65579aa",
   "metadata": {},
   "outputs": [],
   "source": [
    "import numpy as np\n",
    "from joblib import Parallel, delayed\n",
    "from sklearn.base import BaseEstimator\n",
    "# Astrodynamics libraries\n",
    "from astropy import units as u\n",
    "from astropy.time import Time\n",
    "from poliastro.bodies import Earth, Sun\n",
    "from poliastro.twobody import Orbit\n",
    "from poliastro.twobody.propagation import cowell\n",
    "from poliastro.core.perturbations import J2_perturbation\n",
    "# from numba import njit\n",
    "from poliastro.core.propagation import func_twobody\n",
    "\n",
    "from astropy import units as u\n",
    "from poliastro.bodies import Earth, Mars, Sun\n",
    "from poliastro.twobody import Orbit\n",
    "import numpy as np\n",
    "import random\n",
    "import matplotlib.pyplot as plt\n",
    "from mpl_toolkits.mplot3d import Axes3D\n",
    "%matplotlib inline\n",
    "\n",
    "\n",
    "import numpy as np\n",
    "from joblib import Parallel, delayed\n",
    "from sklearn.base import BaseEstimator\n",
    "# Astrodynamics libraries\n",
    "from astropy import units as u\n",
    "from astropy.time import Time\n",
    "from poliastro.bodies import Earth, Sun\n",
    "from poliastro.twobody import Orbit\n",
    "from poliastro.twobody.propagation import cowell\n",
    "from poliastro.core.perturbations import J2_perturbation\n",
    "# from numba import njit\n",
    "from poliastro.core.propagation import func_twobody\n",
    "\n",
    "from astropy import units as u\n",
    "from poliastro.bodies import Earth, Mars, Sun\n",
    "from poliastro.twobody import Orbit\n",
    "import numpy as np\n",
    "import random\n",
    "import matplotlib.pyplot as plt\n",
    "from mpl_toolkits.mplot3d import Axes3D\n",
    "%matplotlib inline\n",
    "\n",
    "\n",
    "prop_time = 2\n",
    "\n",
    "def f(t0, u_, k):\n",
    "    du_kep = func_twobody(t0, u_, k)\n",
    "    ax, ay, az = J2_perturbation(\n",
    "        t0, u_, k, J2=Earth.J2.value, R=Earth.R.to(u.km).value\n",
    "    )\n",
    "    du_ad = np.array([0, 0, 0, ax, ay, az])\n",
    "    return du_kep + du_ad\n",
    "\n",
    "\n",
    "def prop(state):\n",
    "    s = prop_time\n",
    "\n",
    "    r = state[0:3] * u.m\n",
    "    v = state[3:6] * (u.m / u.s)\n",
    "    orbit = Orbit.from_vectors(Earth, r, v)\n",
    "    prop_orbit = orbit.propagate(s * u.s,\n",
    "                                 method=cowell, f=f)\n",
    "\n",
    "    prop_r, prop_v = prop_orbit.rv()\n",
    "    prop_state_vect = np.concatenate([prop_r.to(u.m).to_value(), prop_v.to(u.m / u.s).to_value()])\n",
    "    return prop_state_vect\n",
    "\n",
    "def kep2car(state):\n",
    "\n",
    "    a = state[0] * u.m\n",
    "    ecc = state[1] * u.one\n",
    "    inc = state[2] * u.deg\n",
    "    raan = state[3] * u.deg\n",
    "    argp = state[4] * u.deg\n",
    "    nu = state[5] * u.deg\n",
    "    orbit = Orbit.from_classical(Earth, a, ecc, inc, raan, argp, nu)\n",
    "    \n",
    "    orb_r, orb_v = orbit.rv()\n",
    "    orb_state = np.concatenate([orb_r.to(u.m).to_value(), orb_v.to(u.m / u.s).to_value()])\n",
    "    \n",
    "    return orb_state\n",
    "\n",
    "def car2kep(state):\n",
    "    \n",
    "    r = state[:3] * u.m\n",
    "    v = state[3:] * u.m/u.s\n",
    "    orbit = Orbit.from_vectors(Earth, r,v)\n",
    "    \n",
    "    a, ecc, inc, raan, argp, nu = orbit.classical()\n",
    "    a = a.to(u.m).to_value()\n",
    "    ecc = ecc.to_value()\n",
    "    inc = inc.to(u.deg).to_value()\n",
    "    raan = raan.to(u.deg).to_value()\n",
    "    argp = argp.to(u.deg).to_value()\n",
    "    nu = nu.to(u.deg).to_value()\n",
    "    orb_state = np.array([a, ecc, inc, raan, argp, nu ])\n",
    "    \n",
    "    return orb_state"
   ]
  },
  {
   "cell_type": "markdown",
   "id": "a3ca10ab",
   "metadata": {},
   "source": [
    "## space telescope Keplerian Elements"
   ]
  },
  {
   "cell_type": "code",
   "execution_count": 2,
   "id": "b4a60faf",
   "metadata": {},
   "outputs": [],
   "source": [
    "obs_tele_kep = np.array([6.87489699e+06, 1.46505319e-03, 9.80000000e+01, 2.43999767e+02,\n",
    "       4.60830654e+01, 1.68944643e+02])"
   ]
  },
  {
   "cell_type": "code",
   "execution_count": 3,
   "id": "9a99ba9f",
   "metadata": {},
   "outputs": [],
   "source": [
    "earth_R = 6378137\n",
    "obs_height = obs_tele_kep[0] - earth_R "
   ]
  },
  {
   "cell_type": "code",
   "execution_count": 4,
   "id": "9559e725",
   "metadata": {},
   "outputs": [
    {
     "data": {
      "text/plain": [
       "array([ 2.96576344e+06,  4.82609472e+06, -3.91321798e+06, -1.13339290e+03,\n",
       "       -4.30085512e+03, -6.16690334e+03])"
      ]
     },
     "execution_count": 4,
     "metadata": {},
     "output_type": "execute_result"
    }
   ],
   "source": [
    "obs_tele_car = kep2car(obs_tele_kep)\n",
    "obs_tele_car"
   ]
  },
  {
   "cell_type": "code",
   "execution_count": 5,
   "id": "08812dcc",
   "metadata": {},
   "outputs": [
    {
     "data": {
      "text/plain": [
       "[2965763.4420625097,\n",
       " 4826094.719358868,\n",
       " -3913217.97914458,\n",
       " -1133.3928993179804,\n",
       " -4300.855122498339,\n",
       " -6166.903337085192]"
      ]
     },
     "execution_count": 5,
     "metadata": {},
     "output_type": "execute_result"
    }
   ],
   "source": [
    "ini_obs_tele_car = list(obs_tele_car)\n",
    "ini_obs_tele_car"
   ]
  },
  {
   "cell_type": "code",
   "execution_count": 6,
   "id": "2d6651b6",
   "metadata": {},
   "outputs": [
    {
     "name": "stdout",
     "output_type": "stream",
     "text": [
      "simulation done!\n"
     ]
    }
   ],
   "source": [
    "## hypothesis orbit\n",
    "import astropy.coordinates as coord\n",
    "from astropy.coordinates import GCRS,ITRS,ICRS\n",
    "from astropy.coordinates import SkyCoord, EarthLocation, AltAz\n",
    "from astropy.coordinates.erfa_astrom import erfa_astrom, ErfaAstromInterpolator\n",
    "from astropy.time import Time\n",
    "import astropy.units as u\n",
    "import matplotlib.pyplot as plt\n",
    "\n",
    "hypo_state = [6.87489699e+06, 1.46505319e-03, 9.80000000e+01, 2.43999767e+02, 4.60830654e+01, 1.68944643e+02]\n",
    "\n",
    "hypo_tmp_car = []\n",
    "hypo_tmp_kep = []\n",
    "\n",
    "while True:\n",
    "    \n",
    "#     hypo_state[0] = random.uniform(10000000,12000000)\n",
    "    hypo_state[0] = random.uniform(6700000,7200000)\n",
    "    hypo_state[1] = random.uniform(0,0.02)\n",
    "    hypo_state[2] = random.uniform(0,180)\n",
    "    hypo_state[3] = random.uniform(0,360)\n",
    "    hypo_state[4] = random.uniform(0,360)\n",
    "    hypo_state[5] = random.uniform(-180,180)\n",
    "    \n",
    "    # hypothesis orbit Cartesian elements\n",
    "    hypo_state1 = kep2car(hypo_state)\n",
    "#     print(np.linalg.norm(hypo_state1[:3]))\n",
    "    \n",
    "    # 确保仿真的轨道合理\n",
    "    if hypo_state[0] - hypo_state[0] * hypo_state[1]  > 6480000:\n",
    "\n",
    "        hypo_tmp_car.append(list(hypo_state1)) # 仿真轨道的笛卡尔参数\n",
    "        hypo_tmp_kep.append(list(hypo_state))  # 仿真轨道的开普勒参数\n",
    "\n",
    "        if len(hypo_tmp_car)>=30:\n",
    "\n",
    "            print('simulation done!')\n",
    "            \n",
    "            break"
   ]
  },
  {
   "cell_type": "code",
   "execution_count": 7,
   "id": "6a9c8aea",
   "metadata": {},
   "outputs": [],
   "source": [
    "GM = 398600.4415 * 1e9  # JGM-3, Nominal Earth mass parameter.\n",
    "R = 6378.137  # WGS-84, Nominal Earth equatorial radius."
   ]
  },
  {
   "cell_type": "code",
   "execution_count": 8,
   "id": "5742c007",
   "metadata": {},
   "outputs": [],
   "source": [
    "# 输入某观测时刻的轨道笛卡尔位置 输出望远镜随机观测指向\n",
    "def direction_tele(obs_tele_car):\n",
    "    \n",
    "    r = obs_tele_car[:3]\n",
    "    v = obs_tele_car[3:]\n",
    "\n",
    "    # LVLH\n",
    "    # o3:LVLH Z-axis - Aligned with the spacecraft geocentric position vector\n",
    "    # o2:LVLH Y-axis - Aligned with the negative orbit-normal\n",
    "    # o1:LVLH X-axis - Completes the right-hand triad\n",
    "\n",
    "    o3 = - r / (np.linalg.norm(r))\n",
    "    o2 = - np.cross(r, v) / (np.linalg.norm(np.cross(r, v)))\n",
    "    o1 = np.cross(o2, o3)\n",
    "\n",
    "    rot = np.vstack((o1.T, o2.T, o3.T))\n",
    "    rot_inv = np.linalg.inv(rot)\n",
    "\n",
    "    # the random direction of space-based telescope\n",
    "\n",
    "    LL = np.linalg.norm(r)\n",
    "    earth_angle = np.arcsin((R * 1e3) / LL)\n",
    "    earth_angle = (earth_angle * 180) / np.pi\n",
    "    earth_angle = int(earth_angle) + 1\n",
    "\n",
    "    theta = random.uniform(earth_angle, 180) # 让望远镜不指向地球\n",
    "    phi = random.uniform(0, 360)\n",
    "\n",
    "    return [theta, phi]"
   ]
  },
  {
   "cell_type": "code",
   "execution_count": null,
   "id": "84f32b92",
   "metadata": {},
   "outputs": [],
   "source": []
  },
  {
   "cell_type": "code",
   "execution_count": 9,
   "id": "8e82f4d1",
   "metadata": {},
   "outputs": [
    {
     "data": {
      "text/plain": [
       "[160.01025380824376, 114.33512971161552]"
      ]
     },
     "execution_count": 9,
     "metadata": {},
     "output_type": "execute_result"
    }
   ],
   "source": [
    "d_t = direction_tele(obs_tele_car)\n",
    "d_t"
   ]
  },
  {
   "cell_type": "code",
   "execution_count": null,
   "id": "e835f705",
   "metadata": {},
   "outputs": [],
   "source": []
  },
  {
   "cell_type": "code",
   "execution_count": 10,
   "id": "2e12fb7b",
   "metadata": {},
   "outputs": [
    {
     "data": {
      "text/plain": [
       "[3367431.442407937,\n",
       " 6243650.022842467,\n",
       " 463473.8881668997,\n",
       " 6255.198126206918,\n",
       " -3591.5490368388437,\n",
       " 2081.0693638986563]"
      ]
     },
     "execution_count": 10,
     "metadata": {},
     "output_type": "execute_result"
    }
   ],
   "source": [
    "## 第一组仿真轨道的数据\n",
    "hypo_tmp_car[0]"
   ]
  },
  {
   "cell_type": "code",
   "execution_count": 11,
   "id": "13213197",
   "metadata": {},
   "outputs": [],
   "source": [
    "np.save(file = 'low_hypo_tmp_car.npy',arr = hypo_tmp_car)"
   ]
  },
  {
   "cell_type": "code",
   "execution_count": 12,
   "id": "a220da0f",
   "metadata": {},
   "outputs": [],
   "source": [
    "state = hypo_tmp_car[0]\n",
    "state_series = []\n",
    "for i in range(1000):\n",
    "    state = prop(state)\n",
    "    state_series.append(state)"
   ]
  },
  {
   "cell_type": "code",
   "execution_count": 13,
   "id": "5f4692e2",
   "metadata": {},
   "outputs": [],
   "source": [
    "state_series = np.array(state_series)"
   ]
  },
  {
   "cell_type": "code",
   "execution_count": 14,
   "id": "a2d256ac",
   "metadata": {},
   "outputs": [
    {
     "data": {
      "text/plain": [
       "[<matplotlib.lines.Line2D at 0x1a89f33cf10>]"
      ]
     },
     "execution_count": 14,
     "metadata": {},
     "output_type": "execute_result"
    },
    {
     "data": {
      "image/png": "[encoded data removed]",
      "text/plain": [
       "<Figure size 432x288 with 1 Axes>"
      ]
     },
     "metadata": {
      "needs_background": "light"
     },
     "output_type": "display_data"
    }
   ],
   "source": [
    "import matplotlib.pyplot as plt\n",
    "plt.plot(state_series[:,0],state_series[:,1])"
   ]
  },
  {
   "cell_type": "code",
   "execution_count": 15,
   "id": "c68c1248",
   "metadata": {},
   "outputs": [],
   "source": [
    "## 得到LVLH坐标下 space telescope 对空间目标的观测角\n",
    "\n",
    "def tele_trans_LVLH(r, v):\n",
    "    # LVLH\n",
    "    # o3:LVLH Z-axis - Aligned with the spacecraft geocentric position vector\n",
    "    # o2:LVLH Y-axis - Aligned with the negative orbit-normal\n",
    "    # o1:LVLH X-axis - Completes the right-hand triad\n",
    "\n",
    "    o3 = - r / (np.linalg.norm(r))\n",
    "    o2 = - np.cross(r, v) / (np.linalg.norm(np.cross(r, v)))\n",
    "    o1 = np.cross(o2, o3)\n",
    "\n",
    "    rot = np.vstack((o1.T, o2.T, o3.T))\n",
    "\n",
    "    return rot\n",
    "\n",
    "\n",
    "def target_trans_LVLH(r, v, rot, r_t, r_v):\n",
    "    r_d = r_t - r\n",
    "    trans_r = np.dot(rot, r_d.T)\n",
    "\n",
    "    # x,y,z --> sphercial\n",
    "    z = trans_r[2]\n",
    "    y = trans_r[1]\n",
    "    x = trans_r[0]\n",
    "\n",
    "    R = np.linalg.norm(trans_r)\n",
    "    theta = np.arccos(z / R)  # [0 - pi]\n",
    "    phi = np.arctan(y / x)  # [-pi/2, pi/2]\n",
    "\n",
    "    theta = (theta * 180) / np.pi\n",
    "    phi = (phi * 180) / np.pi\n",
    "\n",
    "    if (y > 0) and (x < 0):\n",
    "        phi += 180\n",
    "    if (y < 0) and (x < 0):\n",
    "        phi += 180\n",
    "    if (y < 0) and (x > 0):\n",
    "        phi += 360\n",
    "\n",
    "    return R, theta, phi"
   ]
  },
  {
   "cell_type": "markdown",
   "id": "71ca40e4",
   "metadata": {},
   "source": [
    "## 测试30组仿真数据的观测情况"
   ]
  },
  {
   "cell_type": "code",
   "execution_count": 16,
   "id": "62e22383",
   "metadata": {},
   "outputs": [],
   "source": [
    "name = []\n",
    "for i in range(0,30):\n",
    "    name.append(str(i))\n",
    "\n",
    "dic = {}\n",
    "for i in name:\n",
    "    dic[i] = []"
   ]
  },
  {
   "cell_type": "code",
   "execution_count": null,
   "id": "37e82265",
   "metadata": {},
   "outputs": [],
   "source": [
    "# obs_tele_pos_series = []\n",
    "# tar_simu_pos_series = []\n",
    "\n",
    "\n",
    "for j in range(3000):\n",
    "    \n",
    "    obs_tele_car = prop(obs_tele_car)\n",
    "\n",
    "    r = np.array(obs_tele_car[:3])\n",
    "    v = np.array(obs_tele_car[3:])\n",
    "    rot = tele_trans_LVLH(r, v)\n",
    "\n",
    "    theta_tmp = []\n",
    "    phi_tmp = []\n",
    "    R_tmp = []\n",
    "    polar_tmp = []\n",
    "\n",
    "    for i in range(len(hypo_tmp_car)):\n",
    "        \n",
    "        hypo_tmp_car[i] = prop(hypo_tmp_car[i])\n",
    "        \n",
    "        r_t = hypo_tmp_car[i][:3]\n",
    "        r_v = hypo_tmp_car[i][3:]\n",
    "        R, theta, phi = target_trans_LVLH(r, v, rot, r_t, r_v)\n",
    "        \n",
    "        diff_ta = theta - d_t[0]\n",
    "        \n",
    "        if abs(diff_ta) <= 4:\n",
    "            \n",
    "            R_tmp.append(R)\n",
    "            theta_tmp.append(theta)\n",
    "            phi_tmp.append(phi)\n",
    "            polar = abs(R * np.sin((theta*np.pi)/180))\n",
    "            polar_tmp.append(polar)\n",
    "            \n",
    "            name_ = str(i)\n",
    "            dic[name_].append(2*j)\n",
    "    \n",
    "    if len(R_tmp):\n",
    "        print(R_tmp)\n",
    "        print('list is not none')\n",
    "        plt.figure()\n",
    "        ax1 = plt.subplot(111, projection='polar')\n",
    "        ax1.scatter(phi_tmp, polar_tmp)\n",
    "        plt.show()"
   ]
  },
  {
   "cell_type": "code",
   "execution_count": null,
   "id": "5dca4582",
   "metadata": {},
   "outputs": [],
   "source": [
    "# np.save('dic_time.npy', dic)"
   ]
  },
  {
   "cell_type": "code",
   "execution_count": null,
   "id": "5bcd8fd3",
   "metadata": {},
   "outputs": [],
   "source": [
    "import pandas as pd\n",
    "\n",
    "stat_pd = []\n",
    "obs_time_tmp = []\n",
    "for ii in range(30):\n",
    "    name_ = str(ii)\n",
    "    if len(dic[name_]):\n",
    "#         print('{}   :   '.format(ii),len(dic[name_]))\n",
    "        \n",
    "        obs_time_tmp = []\n",
    "        one_seg = dic['{}'.format(ii)]\n",
    "        multi_seg = []\n",
    "        for i in range(len(one_seg)-1):\n",
    "            multi_seg.append(one_seg[i])\n",
    "            if one_seg[i+1]-one_seg[i]>2:\n",
    "                obs_time_tmp.append(multi_seg)\n",
    "                multi_seg = []\n",
    "            if i == len(one_seg)-2:\n",
    "                multi_seg.append(one_seg[i+1])        \n",
    "                obs_time_tmp.append(multi_seg)\n",
    "        seg_num = len(obs_time_tmp)\n",
    "        stat_pd.append([ii,len(dic[name_]),seg_num])\n",
    "\n",
    "df = pd.DataFrame(stat_pd,columns=['number','total_num','segment_num'])\n",
    "print(df)"
   ]
  },
  {
   "cell_type": "code",
   "execution_count": null,
   "id": "efa1846b",
   "metadata": {},
   "outputs": [],
   "source": [
    "# obs_time_tmp = []\n",
    "# aad = dic['9']\n",
    "# aad0 = []\n",
    "# for i in range(len(aad)-1):\n",
    "#     aad0.append(aad[i])\n",
    "#     if aad[i+1]-aad[i]>2:\n",
    "#         obs_time_tmp.append(aad0)\n",
    "#         aad0 = []\n",
    "#     if i == len(aad)-2:\n",
    "#         aad0.append(aad[i+1])        \n",
    "#         obs_time_tmp.append(aad0)"
   ]
  },
  {
   "cell_type": "code",
   "execution_count": null,
   "id": "ec8ef99b",
   "metadata": {},
   "outputs": [],
   "source": [
    "index_row = df['total_num'].argmax()\n",
    "dic_select = df.iloc[index_row, 0]"
   ]
  },
  {
   "cell_type": "code",
   "execution_count": null,
   "id": "f8c590eb",
   "metadata": {},
   "outputs": [],
   "source": [
    "dic_select = 9"
   ]
  },
  {
   "cell_type": "code",
   "execution_count": null,
   "id": "1ddf2407",
   "metadata": {},
   "outputs": [],
   "source": [
    "# plt.plot(np.hstack((obs_time_tmp[0],obs_time_tmp[1],obs_time_tmp[2])))"
   ]
  },
  {
   "cell_type": "code",
   "execution_count": null,
   "id": "24c167b6",
   "metadata": {},
   "outputs": [],
   "source": [
    "# len(obs_time_tmp)"
   ]
  },
  {
   "cell_type": "code",
   "execution_count": null,
   "id": "157b113e",
   "metadata": {},
   "outputs": [],
   "source": [
    "# obs_time_tmp"
   ]
  },
  {
   "cell_type": "code",
   "execution_count": null,
   "id": "3aa49cf9",
   "metadata": {},
   "outputs": [],
   "source": [
    "ini_obs_tele_car"
   ]
  },
  {
   "cell_type": "code",
   "execution_count": null,
   "id": "7832c66e",
   "metadata": {},
   "outputs": [],
   "source": []
  },
  {
   "cell_type": "code",
   "execution_count": null,
   "id": "f96d8468",
   "metadata": {},
   "outputs": [],
   "source": [
    "obs_tele_car_ = list(ini_obs_tele_car)\n",
    "i = dic_select\n",
    "hypo_tmp_car_ = np.load('low_hypo_tmp_car.npy')[i]\n",
    "\n",
    "test = {'time':[]}\n",
    "\n",
    "obs_tele_tmp_ = []\n",
    "tar_sat_tmp_ = []\n",
    "index_arc = []\n",
    "# obs_tele_tmp_.append(obs_tele_car_)\n",
    "# tar_sat_tmp_.append(hypo_tmp_car_)\n",
    "\n",
    "for j in range(3000):\n",
    "    \n",
    "    obs_tele_car_ = prop(obs_tele_car_)\n",
    "    \n",
    "    r = np.array(obs_tele_car_[:3])\n",
    "    v = np.array(obs_tele_car_[3:])\n",
    "    rot = tele_trans_LVLH(r, v)\n",
    "\n",
    "    theta_tmp = []\n",
    "    phi_tmp = []\n",
    "    R_tmp = []\n",
    "    polar_tmp = []\n",
    "        \n",
    "    hypo_tmp_car_ = prop(hypo_tmp_car_)\n",
    " \n",
    "    obs_tele_tmp_.append(obs_tele_car_)\n",
    "    tar_sat_tmp_.append(hypo_tmp_car_)\n",
    "    \n",
    "    r_t = hypo_tmp_car_[:3]\n",
    "    r_v = hypo_tmp_car_[3:]\n",
    "    R, theta, phi = target_trans_LVLH(r, v, rot, r_t, r_v)\n",
    "\n",
    "    diff_ta = theta - d_t[0]\n",
    "\n",
    "    if abs(diff_ta) <= 4:\n",
    "\n",
    "        R_tmp.append(R)\n",
    "        theta_tmp.append(theta)\n",
    "        phi_tmp.append(phi)\n",
    "        polar = abs(R * np.sin((theta*np.pi)/180))\n",
    "        polar_tmp.append(polar)\n",
    "\n",
    "        test['time'].append(2*j+2)\n",
    "        index_arc.append(j)\n",
    "        \n",
    "        # 未保存初始时刻，是从传播后的第一时刻开始保存的，且传播间隔为 2 s，所以（2*j+2）\n",
    "    \n",
    "#     if len(R_tmp):\n",
    "#         print(R_tmp)\n",
    "#         print('list is not none')\n",
    "#         plt.figure()\n",
    "#         ax1 = plt.subplot(111, projection='polar')\n",
    "#         ax1.scatter(phi_tmp, polar_tmp)\n",
    "#         plt.show()"
   ]
  },
  {
   "cell_type": "code",
   "execution_count": null,
   "id": "9fc28b57",
   "metadata": {},
   "outputs": [],
   "source": [
    "# test['time']"
   ]
  },
  {
   "cell_type": "code",
   "execution_count": null,
   "id": "a33af376",
   "metadata": {},
   "outputs": [],
   "source": [
    "list(ini_obs_tele_car)"
   ]
  },
  {
   "cell_type": "code",
   "execution_count": null,
   "id": "a313edec",
   "metadata": {},
   "outputs": [],
   "source": [
    "# obs_tele_kep"
   ]
  },
  {
   "cell_type": "code",
   "execution_count": null,
   "id": "6e6ab92a",
   "metadata": {},
   "outputs": [],
   "source": [
    "obs_tele_kep = np.array([6.87489699e+06, 1.46505319e-03, 9.80000000e+01, 2.43999767e+02,\n",
    "       4.60830654e+01, 1.68944643e+02])\n",
    "\n",
    "obs_tele_car = kep2car(obs_tele_kep)"
   ]
  },
  {
   "cell_type": "code",
   "execution_count": null,
   "id": "a7c511c2",
   "metadata": {},
   "outputs": [],
   "source": [
    "# one_segment = np.array(obs_time_tmp[0])+2\n",
    "# len(one_segment)\n",
    "one_segment = np.array(index_arc)\n",
    "one_segment"
   ]
  },
  {
   "cell_type": "code",
   "execution_count": null,
   "id": "56ec71d2",
   "metadata": {},
   "outputs": [],
   "source": [
    "# one_segment = np.hstack((obs_time_tmp[0],obs_time_tmp[1]))+2\n",
    "# len(one_segment)"
   ]
  },
  {
   "cell_type": "code",
   "execution_count": null,
   "id": "27b9e9e3",
   "metadata": {},
   "outputs": [],
   "source": [
    "# i = 12\n",
    "\n",
    "# tar_car = list(hypo_tmp_car_)\n",
    "# tele_car = list(obs_tele_car)\n",
    "# obs_tele_tmp = []\n",
    "# tar_sat_tmp = []\n",
    "# time = {'time': []}\n",
    "\n",
    "\n",
    "# obs_tele_tmp.append(tele_car)\n",
    "# tar_sat_tmp.append(tar_car)\n",
    "# time['time'].append(prop_time*0)\n",
    "\n",
    "# for j in range(3000):\n",
    "    \n",
    "#     tele_car = prop(tele_car)     \n",
    "#     tar_car = prop(tar_car)\n",
    "    \n",
    "#     obs_tele_tmp.append(tele_car)\n",
    "#     tar_sat_tmp.append(tar_car)\n",
    "    \n",
    "#     time['time'].append(prop_time*(j+1))"
   ]
  },
  {
   "cell_type": "code",
   "execution_count": null,
   "id": "edfc205b",
   "metadata": {},
   "outputs": [],
   "source": [
    "[list(one_segment)]"
   ]
  },
  {
   "cell_type": "code",
   "execution_count": null,
   "id": "43bfba09",
   "metadata": {},
   "outputs": [],
   "source": [
    "# np.array(test['time'])[list(one_segment)]"
   ]
  },
  {
   "cell_type": "code",
   "execution_count": null,
   "id": "bedc4f43",
   "metadata": {},
   "outputs": [],
   "source": []
  },
  {
   "cell_type": "markdown",
   "id": "ae2620b8",
   "metadata": {},
   "source": [
    "## 对某一个仿真轨道的观测数据处理，使其匹配到定轨算法"
   ]
  },
  {
   "cell_type": "code",
   "execution_count": null,
   "id": "1a9c6efa",
   "metadata": {},
   "outputs": [],
   "source": [
    "obs_pos_tele = np.array(obs_tele_tmp_)[list(one_segment)]\n",
    "obs_pos_unkn = np.array(tar_sat_tmp_)[list(one_segment)]"
   ]
  },
  {
   "cell_type": "code",
   "execution_count": null,
   "id": "9d8ec69b",
   "metadata": {},
   "outputs": [],
   "source": [
    "sat_tele_diff = obs_pos_unkn - obs_pos_tele"
   ]
  },
  {
   "cell_type": "code",
   "execution_count": null,
   "id": "c3b02715",
   "metadata": {},
   "outputs": [],
   "source": [
    "from astropy import coordinates as coord\n",
    "from astropy import units as u\n",
    "from astropy.time import Time\n",
    "import random\n",
    "from datetime import datetime,timedelta\n",
    "\n",
    "ra_tmp = []\n",
    "dec_tmp = []\n",
    "ini_instant = list(one_segment)[0]\n",
    "start_time = datetime(2008,1,1,0,0,0) + timedelta(seconds = 2*int(ini_instant))  \n",
    "# print(start_time)\n",
    "for i in range(len(obs_pos_tele)):\n",
    "    obs_time = start_time + timedelta(seconds = 2*int(list(one_segment)[i]) - 2*int(ini_instant))\n",
    "#     print(obs_time)\n",
    "    now = Time(obs_time)\n",
    "    cartrep = coord.CartesianRepresentation(x=sat_tele_diff[i,0], \n",
    "                                            y=sat_tele_diff[i,1],\n",
    "                                            z=sat_tele_diff[i,2], unit=u.m)\n",
    "    gcrs = coord.GCRS(cartrep,obstime=now)\n",
    "\n",
    "    ra = gcrs.ra.to(u.deg).to_value() + random.gauss(0,0.001)\n",
    "    dec = gcrs.dec.to(u.deg).to_value() + random.gauss(0,0.001)\n",
    "    ra_tmp.append(ra)\n",
    "    dec_tmp.append(dec)"
   ]
  },
  {
   "cell_type": "code",
   "execution_count": null,
   "id": "002b672a",
   "metadata": {},
   "outputs": [],
   "source": []
  },
  {
   "cell_type": "code",
   "execution_count": null,
   "id": "489e144e",
   "metadata": {
    "scrolled": true
   },
   "outputs": [],
   "source": [
    "ini_date = datetime(2008,1,1,0,0,0) + timedelta(seconds = 2*int(ini_instant))  \n",
    "\n",
    "obs_date = ini_date\n",
    "rr = [obs_date.year,obs_date.month,obs_date.day, obs_date.hour, obs_date.minute, obs_date.second]\n",
    "\n",
    "obs_1 = np.zeros((len(obs_pos_tele),11))\n",
    "obs_1[0,:6] = [obs_date.year,obs_date.month,obs_date.day, obs_date.hour, obs_date.minute, obs_date.second]\n",
    "obs_1[0,6:8] = [ra_tmp[0],dec_tmp[0]]\n",
    "obs_1[0,8:11] = [np.array(obs_pos_tele)[0,0],np.array(obs_pos_tele)[0,1],np.array(obs_pos_tele)[0,2]]\n",
    "\n",
    "\n",
    "for i in range(1,len(obs_pos_tele)):\n",
    "\n",
    "    obs_date = start_time + timedelta(seconds = 2*int(list(one_segment)[i]) - 2*int(ini_instant))\n",
    "    print(obs_date)\n",
    "    obs_1[i,:6] = [obs_date.year,obs_date.month,obs_date.day, obs_date.hour, obs_date.minute, obs_date.second]\n",
    "    obs_1[i,6:8] = [ra_tmp[i],dec_tmp[i]]\n",
    "    obs_1[i,8:11] = [np.array(obs_pos_tele)[i][0],np.array(obs_pos_tele)[i][1],np.array(obs_pos_tele)[i][2]]"
   ]
  },
  {
   "cell_type": "code",
   "execution_count": null,
   "id": "3cc21c28",
   "metadata": {},
   "outputs": [],
   "source": [
    "i=0\n",
    "f=open(\"obs_simu_fin_low.txt\",\"w\")\n",
    "\n",
    "while i < len(obs_1): \n",
    "    \n",
    "\n",
    "    for j in range(11):\n",
    "        f.write(str(float(obs_1[i][j])))\n",
    "        f.write(' ') \n",
    "    f.write('\\n')\n",
    "    \n",
    "    i += 1\n",
    "    \n",
    "f.close()"
   ]
  },
  {
   "cell_type": "code",
   "execution_count": null,
   "id": "984dfd9a",
   "metadata": {},
   "outputs": [],
   "source": []
  },
  {
   "cell_type": "code",
   "execution_count": null,
   "id": "638bde17",
   "metadata": {},
   "outputs": [],
   "source": [
    "list(car2kep(hypo_tmp_car_))"
   ]
  },
  {
   "cell_type": "code",
   "execution_count": null,
   "id": "0a6afe7b",
   "metadata": {},
   "outputs": [],
   "source": []
  }
 ],
 "metadata": {
  "kernelspec": {
   "display_name": "base",
   "language": "python",
   "name": "base"
  },
  "language_info": {
   "codemirror_mode": {
    "name": "ipython",
    "version": 3
   },
   "file_extension": ".py",
   "mimetype": "text/x-python",
   "name": "python",
   "nbconvert_exporter": "python",
   "pygments_lexer": "ipython3",
   "version": "3.8.3"
  }
 },
 "nbformat": 4,
 "nbformat_minor": 5
}
